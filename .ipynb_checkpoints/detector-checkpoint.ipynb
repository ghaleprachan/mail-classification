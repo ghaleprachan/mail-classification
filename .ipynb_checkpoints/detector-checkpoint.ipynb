{
 "cells": [
  {
   "cell_type": "code",
   "execution_count": null,
   "metadata": {},
   "outputs": [
    {
     "name": "stderr",
     "output_type": "stream",
     "text": [
      "[nltk_data] Downloading package stopwords to C:\\Users\\dell.DESKTOP-\n",
      "[nltk_data]     AR0KM9I\\AppData\\Roaming\\nltk_data...\n",
      "[nltk_data]   Package stopwords is already up-to-date!\n"
     ]
    }
   ],
   "source": [
    "import pickle  as c\n",
    "import os\n",
    "from sklearn import *\n",
    "from collections import Counter\n",
    "\n",
    "\n",
    "import nltk \n",
    "from nltk.corpus import stopwords\n",
    "nltk.download('stopwords')\n",
    "\n",
    "def make_dict():\n",
    "    direc = \"emails/\"\n",
    "    files = os.listdir(direc)\n",
    "    emails = [direc +email for email in files]\n",
    "    words = []\n",
    "    c = len(emails)\n",
    "\n",
    "    for email in emails:\n",
    "        f = open(email, encoding = \"latin-1\")\n",
    "        blob = f.read()\n",
    "        words += blob.split(\" \")\n",
    "#         print(c) \n",
    "#         c -= 1\n",
    "    # This is to get rid the non-aplha numeric words\n",
    "    # The below for loop will replace the word with empty string with the empty string \"\"\n",
    "    for i in range(len(words)):\n",
    "        if not words[i].isalpha() or words[i] in stopwords.words('english'):\n",
    "            words[i] = \"\"\n",
    "\n",
    "    dictionary = Counter(words) \n",
    "    # Dictionary is the object of the class counter and \n",
    "    # its is to seleperate the most common words\n",
    "    del dictionary[\"\"] \n",
    "    # this delete the empty string from the dictionary\n",
    "    return dictionary.most_common(3000)\n",
    "    # This prints the frequently used 3000 words in our words list\n",
    "\n",
    "def load(clf_file):\n",
    "    with open(clf_file, 'rb') as fp:\n",
    "        clf = c.load(fp)\n",
    "    return clf\n",
    "clf = load(\"text-classifier.mdl\")\n",
    "d = make_dict()\n",
    "\n",
    "while True:\n",
    "    features = []\n",
    "    inputText = input(\"Enter the text:\")\n",
    "    while inputText == \"\":\n",
    "        print(\"Empty Text\")\n",
    "        inputText = input(\"Enter the text:\\n\")\n",
    "    inputList = inputText.split()\n",
    "    if inputList[0] == \"exit\":\n",
    "        print(\"Program closed\")\n",
    "        break\n",
    "    for word in d:\n",
    "        features.append(inputList.count(word[0])) # how many times the input word occur in dictionary and append them into the features set \n",
    "    res = clf.predict([features])\n",
    "    print([\"\\nThe mail is Not Spam\", \"\\nThe mail is Spam!\"][res[0]])"
   ]
  },
  {
   "cell_type": "code",
   "execution_count": null,
   "metadata": {},
   "outputs": [],
   "source": []
  }
 ],
 "metadata": {
  "kernelspec": {
   "display_name": "Python 3",
   "language": "python",
   "name": "python3"
  },
  "language_info": {
   "codemirror_mode": {
    "name": "ipython",
    "version": 3
   },
   "file_extension": ".py",
   "mimetype": "text/x-python",
   "name": "python",
   "nbconvert_exporter": "python",
   "pygments_lexer": "ipython3",
   "version": "3.7.4"
  }
 },
 "nbformat": 4,
 "nbformat_minor": 4
}
